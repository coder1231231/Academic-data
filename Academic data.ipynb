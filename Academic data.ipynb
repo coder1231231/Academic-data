{
 "cells": [
  {
   "cell_type": "code",
   "execution_count": 5,
   "id": "88cd547e",
   "metadata": {},
   "outputs": [],
   "source": [
    "#import necessary libaries\n",
    "import pandas as pd\n",
    "import matplotlib"
   ]
  },
  {
   "cell_type": "code",
   "execution_count": 6,
   "id": "48330291",
   "metadata": {},
   "outputs": [],
   "source": [
    "#name file path (you will have download your own dataset and populate the path and choose the appropriate cell to execute)\n",
    "file = '1. Clean & Deidentified - Counterfeit Diversity - Study 1 (MTurk).csv' # <-- edit this value! "
   ]
  },
  {
   "cell_type": "code",
   "execution_count": 7,
   "id": "d40df6cf",
   "metadata": {},
   "outputs": [
    {
     "name": "stdout",
     "output_type": "stream",
     "text": [
      "   DataFilter         ResponseID     StartDate       EndDate  \\\n",
      "0           0  R_3G3eTcIf1i4W4Cs  5/1/18 10:29  5/1/18 10:48   \n",
      "1           0  R_2UWrynxHQXYxdAg  5/1/18 14:29  5/1/18 14:55   \n",
      "2           0  R_V4o8uh4CCrscRBn  5/1/18 20:34  5/1/18 20:47   \n",
      "3           0  R_2ZKp7WkfuYKZkaQ  5/1/18 19:22  5/1/18 19:39   \n",
      "4           0  R_3HNdrLDBInSx1pc  5/1/18 10:15  5/1/18 12:19   \n",
      "\n",
      "   DiversityCondition  Gender_Bin  xDiversityExpecation  xSincerity  \\\n",
      "0                 0.0         NaN                   5.5         3.0   \n",
      "1                 1.0         NaN                   7.0         4.5   \n",
      "2                 0.0         NaN                   5.0         2.0   \n",
      "3                 0.0         1.0                   3.0         1.0   \n",
      "4                -1.0         0.0                   4.5         NaN   \n",
      "\n",
      "   xThreatBasedConcerns  xThreatBasedConcerns_Preregistered  Interest_T1  \\\n",
      "0                  1.67                                0.14          4.0   \n",
      "1                  2.00                                0.03          5.0   \n",
      "2                  1.00                                0.14          3.0   \n",
      "3                  3.33                                1.46          3.0   \n",
      "4                  4.00                               -0.23          4.0   \n",
      "\n",
      "   Interest_T2  \n",
      "0          4.0  \n",
      "1          5.0  \n",
      "2          5.0  \n",
      "3          5.0  \n",
      "4          4.0  \n"
     ]
    }
   ],
   "source": [
    "#read data from CSV (.csv) & print head\n",
    "df = pd.read_csv(file)\n",
    "print(df.head())"
   ]
  },
  {
   "cell_type": "code",
   "execution_count": 8,
   "id": "45b88577",
   "metadata": {},
   "outputs": [
    {
     "name": "stdout",
     "output_type": "stream",
     "text": [
      "['DataFilter', 'ResponseID', 'StartDate', 'EndDate', 'DiversityCondition', 'Gender_Bin', 'xDiversityExpecation', 'xSincerity', 'xThreatBasedConcerns', 'xThreatBasedConcerns_Preregistered', 'Interest_T1', 'Interest_T2']\n",
      "653\n"
     ]
    }
   ],
   "source": [
    "print(list(df))\n",
    "print(len(df))"
   ]
  },
  {
   "cell_type": "code",
   "execution_count": 9,
   "id": "3dd58c9b",
   "metadata": {},
   "outputs": [
    {
     "name": "stdout",
     "output_type": "stream",
     "text": [
      "   How interested would you be in the project manager position at Harrison Technologies?  \\\n",
      "4                                                1.0                                       \n",
      "3                                                2.0                                       \n",
      "1                                                3.0                                       \n",
      "0                                                4.0                                       \n",
      "2                                                5.0                                       \n",
      "\n",
      "   freq  \n",
      "4    23  \n",
      "3    44  \n",
      "1    99  \n",
      "0   248  \n",
      "2    92  \n"
     ]
    }
   ],
   "source": [
    "#output frequency table of chosen column in dataset\n",
    "col = 'Interest_T1' #<-edit this value! column name as it appears in dataframe\n",
    "col_name = 'How interested would you be in the project manager position at Harrison Technologies?' #<-edit this value! descriptive name for column\n",
    "freq = df[col].value_counts().rename_axis(col_name).reset_index(name='freq')\n",
    "freq = freq.sort_values(by = col_name)\n",
    "print(freq)"
   ]
  },
  {
   "cell_type": "code",
   "execution_count": 11,
   "id": "dea30085",
   "metadata": {},
   "outputs": [
    {
     "name": "stdout",
     "output_type": "stream",
     "text": [
      "  How interested would you be in the project manager position at Harrison Technologies?  \\\n",
      "4                              Not at all interested                                      \n",
      "3                                   A bit interested                                      \n",
      "1                              Moderately interested                                      \n",
      "0                                   Quite interested                                      \n",
      "2                               Extremely interested                                      \n",
      "\n",
      "   freq  \n",
      "4    23  \n",
      "3    44  \n",
      "1    99  \n",
      "0   248  \n",
      "2    92  \n"
     ]
    }
   ],
   "source": [
    "#replace codes with descriptive labels\n",
    "#if your dataframe already has descriptive labels, you don't need to run this cell\n",
    "codebook = [['1', 'Not at all interested'], #<- if appropriate, replace these values based on codebook or data dictionary for your dataset\n",
    "            ['2', 'A bit interested'], \n",
    "            ['3', 'Moderately interested'], \n",
    "            ['4', 'Quite interested'], \n",
    "            ['5', 'Extremely interested']]\n",
    "#loops through label codes and replaces them in frequency table\n",
    "for lbl in codebook:\n",
    "    #use line below if codes are stored as integers\n",
    "    freq[col_name] = freq[col_name].replace(int(lbl[0]), lbl[1])\n",
    "    #use line below if codes are stored as strings\n",
    "    #freq[col_name] = freq[col_name].replace(lbl[0], lbl[1])\n",
    "#prints updated frequency table\n",
    "print(freq)"
   ]
  },
  {
   "cell_type": "code",
   "execution_count": 12,
   "id": "76bab364",
   "metadata": {},
   "outputs": [
    {
     "data": {
      "image/png": "[encoded data removed]",
      "text/plain": [
       "<Figure size 432x288 with 1 Axes>"
      ]
     },
     "metadata": {
      "needs_background": "light"
     },
     "output_type": "display_data"
    }
   ],
   "source": [
    "#create frequency chart\n",
    "ax = freq.plot.barh(x=col_name, y='freq', rot=0)"
   ]
  },
  {
   "cell_type": "code",
   "execution_count": null,
   "id": "6f55d2a6",
   "metadata": {},
   "outputs": [],
   "source": []
  }
 ],
 "metadata": {
  "kernelspec": {
   "display_name": "Python 3 (ipykernel)",
   "language": "python",
   "name": "python3"
  },
  "language_info": {
   "codemirror_mode": {
    "name": "ipython",
    "version": 3
   },
   "file_extension": ".py",
   "mimetype": "text/x-python",
   "name": "python",
   "nbconvert_exporter": "python",
   "pygments_lexer": "ipython3",
   "version": "3.9.12"
  }
 },
 "nbformat": 4,
 "nbformat_minor": 5
}
