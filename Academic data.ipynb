{
 "cells": [
  {
   "cell_type": "code",
   "execution_count": 1,
   "id": "88cd547e",
   "metadata": {},
   "outputs": [],
   "source": [
    "#import necessary libaries\n",
    "import pandas as pd\n",
    "import matplotlib"
   ]
  },
  {
   "cell_type": "code",
   "execution_count": 2,
   "id": "48330291",
   "metadata": {},
   "outputs": [],
   "source": [
    "#name file path (you will have download your own dataset and populate the path and choose the appropriate cell to execute)\n",
    "file = '1. Clean & Deidentified - Counterfeit Diversity - Study 1 (MTurk).csv' # <-- edit this value! "
   ]
  },
  {
   "cell_type": "code",
   "execution_count": 3,
   "id": "d40df6cf",
   "metadata": {
    "scrolled": true
   },
   "outputs": [
    {
     "name": "stdout",
     "output_type": "stream",
     "text": [
      "   DataFilter         ResponseID     StartDate       EndDate  \\\n",
      "0           0  R_3G3eTcIf1i4W4Cs  5/1/18 10:29  5/1/18 10:48   \n",
      "1           0  R_2UWrynxHQXYxdAg  5/1/18 14:29  5/1/18 14:55   \n",
      "2           0  R_V4o8uh4CCrscRBn  5/1/18 20:34  5/1/18 20:47   \n",
      "3           0  R_2ZKp7WkfuYKZkaQ  5/1/18 19:22  5/1/18 19:39   \n",
      "4           0  R_3HNdrLDBInSx1pc  5/1/18 10:15  5/1/18 12:19   \n",
      "\n",
      "   DiversityCondition  Gender_Bin  xDiversityExpecation  xSincerity  \\\n",
      "0                 0.0         NaN                   5.5         3.0   \n",
      "1                 1.0         NaN                   7.0         4.5   \n",
      "2                 0.0         NaN                   5.0         2.0   \n",
      "3                 0.0         1.0                   3.0         1.0   \n",
      "4                -1.0         0.0                   4.5         NaN   \n",
      "\n",
      "   xThreatBasedConcerns  xThreatBasedConcerns_Preregistered  Interest_T1  \\\n",
      "0                  1.67                                0.14          4.0   \n",
      "1                  2.00                                0.03          5.0   \n",
      "2                  1.00                                0.14          3.0   \n",
      "3                  3.33                                1.46          3.0   \n",
      "4                  4.00                               -0.23          4.0   \n",
      "\n",
      "   Interest_T2  \n",
      "0          4.0  \n",
      "1          5.0  \n",
      "2          5.0  \n",
      "3          5.0  \n",
      "4          4.0  \n"
     ]
    }
   ],
   "source": [
    "#read data from CSV (.csv) & print head\n",
    "df = pd.read_csv(file)\n",
    "print(df.head())"
   ]
  },
  {
   "cell_type": "code",
   "execution_count": 4,
   "id": "45b88577",
   "metadata": {},
   "outputs": [
    {
     "name": "stdout",
     "output_type": "stream",
     "text": [
      "['DataFilter', 'ResponseID', 'StartDate', 'EndDate', 'DiversityCondition', 'Gender_Bin', 'xDiversityExpecation', 'xSincerity', 'xThreatBasedConcerns', 'xThreatBasedConcerns_Preregistered', 'Interest_T1', 'Interest_T2']\n",
      "653\n"
     ]
    }
   ],
   "source": [
    "print(list(df))\n",
    "print(len(df))"
   ]
  },
  {
   "cell_type": "code",
   "execution_count": 8,
   "id": "3dd58c9b",
   "metadata": {},
   "outputs": [
    {
     "name": "stdout",
     "output_type": "stream",
     "text": [
      "    Identity Threat Concerns Composite (Higher scores indicate greater threat/concern)  \\\n",
      "0                                                1.00                                    \n",
      "6                                                1.17                                    \n",
      "7                                                1.33                                    \n",
      "3                                                1.50                                    \n",
      "4                                                1.67                                    \n",
      "1                                                1.83                                    \n",
      "2                                                2.00                                    \n",
      "5                                                2.17                                    \n",
      "8                                                2.33                                    \n",
      "12                                               2.50                                    \n",
      "13                                               2.67                                    \n",
      "11                                               2.83                                    \n",
      "14                                               3.00                                    \n",
      "17                                               3.17                                    \n",
      "25                                               3.20                                    \n",
      "9                                                3.33                                    \n",
      "15                                               3.50                                    \n",
      "10                                               3.67                                    \n",
      "19                                               3.83                                    \n",
      "16                                               4.00                                    \n",
      "21                                               4.17                                    \n",
      "18                                               4.33                                    \n",
      "20                                               4.50                                    \n",
      "24                                               4.67                                    \n",
      "22                                               4.83                                    \n",
      "23                                               5.00                                    \n",
      "\n",
      "    freq  \n",
      "0    111  \n",
      "6     27  \n",
      "7     19  \n",
      "3     40  \n",
      "4     28  \n",
      "1     43  \n",
      "2     43  \n",
      "5     28  \n",
      "8     17  \n",
      "12    13  \n",
      "13    11  \n",
      "11    14  \n",
      "14    10  \n",
      "17     9  \n",
      "25     1  \n",
      "9     16  \n",
      "15    10  \n",
      "10    16  \n",
      "19     6  \n",
      "16    10  \n",
      "21     4  \n",
      "18     7  \n",
      "20     5  \n",
      "24     1  \n",
      "22     2  \n",
      "23     2  \n"
     ]
    }
   ],
   "source": [
    "#output frequency table of chosen column in dataset\n",
    "col = 'xThreatBasedConcerns' #<-edit this value! column name as it appears in dataframe\n",
    "col_name = 'Identity Threat Concerns Composite (Higher scores indicate greater threat/concern)' #<-edit this value! descriptive name for column\n",
    "freq = df[col].value_counts().rename_axis(col_name).reset_index(name='freq')\n",
    "freq = freq.sort_values(by = col_name)\n",
    "print(freq)"
   ]
  },
  {
   "cell_type": "code",
   "execution_count": 10,
   "id": "dea30085",
   "metadata": {},
   "outputs": [
    {
     "name": "stdout",
     "output_type": "stream",
     "text": [
      "2.0419878296146052\n",
      "1.83\n",
      "0.9883036011174207\n"
     ]
    }
   ],
   "source": [
    "#calculate mean of a colume\n",
    "quant_col = 'xThreatBasedConcerns'\n",
    "mean = df[quant_col].mean()\n",
    "print(mean)\n",
    "\n",
    "median = df[quant_col].median()\n",
    "print(median)\n",
    "\n",
    "standard_deviation = df[quant_col].std()\n",
    "print(standard_deviation) "
   ]
  },
  {
   "cell_type": "code",
   "execution_count": null,
   "id": "76bab364",
   "metadata": {},
   "outputs": [],
   "source": []
  },
  {
   "cell_type": "code",
   "execution_count": null,
   "id": "6f55d2a6",
   "metadata": {},
   "outputs": [],
   "source": []
  }
 ],
 "metadata": {
  "kernelspec": {
   "display_name": "Python 3 (ipykernel)",
   "language": "python",
   "name": "python3"
  },
  "language_info": {
   "codemirror_mode": {
    "name": "ipython",
    "version": 3
   },
   "file_extension": ".py",
   "mimetype": "text/x-python",
   "name": "python",
   "nbconvert_exporter": "python",
   "pygments_lexer": "ipython3",
   "version": "3.9.12"
  }
 },
 "nbformat": 4,
 "nbformat_minor": 5
}
